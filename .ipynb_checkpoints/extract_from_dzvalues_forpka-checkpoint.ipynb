{
 "cells": [
  {
   "cell_type": "markdown",
   "id": "bf0f893f-b9ef-4976-ac90-7ba5fb638d08",
   "metadata": {},
   "source": [
    "# Notebook to extract frames from metadynamics simulations using reduced bias info contained in the colvar file."
   ]
  },
  {
   "cell_type": "code",
   "execution_count": null,
   "id": "3d08817c-918e-4f50-b0bc-9e53e0570484",
   "metadata": {},
   "outputs": [],
   "source": [
    "#I made this notebook-variation to be used in combination with cmip calculations. To do so, I extracted frames in several directories according \n",
    "#to the dz interval."
   ]
  },
  {
   "cell_type": "markdown",
   "id": "7f45de14-4f67-4e84-89ea-be2d736fed35",
   "metadata": {},
   "source": [
    "## Importing"
   ]
  },
  {
   "cell_type": "code",
   "execution_count": null,
   "id": "e878a571-0f49-4e7d-9dd5-e2af6673b7d1",
   "metadata": {},
   "outputs": [],
   "source": [
    "import numpy as np\n",
    "import pandas as pd\n",
    "import seaborn as sb\n",
    "import matplotlib.pyplot as plt\n",
    "from matplotlib.pyplot import figure\n",
    "import os\n",
    "from pathlib import Path\n",
    "\n",
    "\n",
    "from matplotlib.pyplot import figure\n",
    "\n",
    "import pytraj as pt"
   ]
  },
  {
   "cell_type": "markdown",
   "id": "0a798d27-5b60-41c9-a9f3-9ab117499472",
   "metadata": {},
   "source": [
    "## Functions"
   ]
  },
  {
   "cell_type": "code",
   "execution_count": 3,
   "id": "9761bc3d-2167-4b06-aab1-80386313558a",
   "metadata": {},
   "outputs": [],
   "source": [
    "def select_colvar_bylargest_rbias(colvar_df,system,dvalues,nframes):\n",
    "#This function helps me to select the colvar-file data subgroup with -->largest reduced rbias<-- values in the dz range of interest \n",
    "    \"select nframes of colvar in d1.z and d2.z range with lowest rbias\"\n",
    "    colvar_dz=colvar_df.loc[(colvar_df['system']==system) & (colvar_df['d2.z'] <= dvalues[0]) & \n",
    "                    (colvar_df['d2.z'] >= dvalues[1]) & (colvar_df['d1.z'] <= dvalues[2]) &\n",
    "                    (colvar_df['d1.z'] >= dvalues[3])]\n",
    "    #print(colvar_dz[:10])\n",
    "    colvar_largest_rbias=colvar_dz.sort_values(by=['rbias'], ascending=False)[:nframes]\n",
    "    return colvar_largest_rbias"
   ]
  },
  {
   "cell_type": "code",
   "execution_count": 4,
   "id": "06d24a27-6de6-4b00-b065-b1858d0a2f00",
   "metadata": {},
   "outputs": [],
   "source": [
    "def select_alldata_bytime(colvar_sel,alldata_df,sys):\n",
    "#With this function \"alldata\" frames are selected if they correspond to previously-selected frames in the colvar subgroup and return an index.\n",
    "#This is done searching for variables that are in common (system, chain, walker and time).\n",
    "#alldata is created by analyzing the trajectory from which the frames have to be extracted, to ensure that the correspondance between\n",
    "#index (needed by pytraj) and extracted frame is correct. \n",
    "#In theory this passage may be skipped (select with colvar-->extract frame), but it helps avoiding mistakes.\n",
    "    \n",
    "    sel_rbias=[]\n",
    "    selframes=[]\n",
    "    for ind,row in colvar_sel.iterrows():\n",
    "        #print(row)\n",
    "        selframes.append(alldata_df.loc[(alldata_df['system']==row['system']) & (alldata_df['chain']==row['chain'])\n",
    "        & (alldata_df['walker']==row['walker']) & (alldata_df['time (ps)']==row['time (ps)'])].index.to_list())\n",
    "\n",
    "        sel_rbias.append(row['rbias'])\n",
    "    sel_frames=[frame for sublist in selframes for frame in sublist]\n",
    "        \n",
    "    return(sel_frames, sel_rbias)"
   ]
  },
  {
   "cell_type": "code",
   "execution_count": 41,
   "id": "691d82a5-cc51-4d3f-9110-8585622e0fc9",
   "metadata": {},
   "outputs": [],
   "source": [
    "def write_pdb(alldata_df, sel_frames, sel_frames_rbias, trajspath, strip_mask, align_mask):\n",
    "    for n,fr in enumerate(sel_frames):\n",
    "        system=alldata_df['system'].iloc[fr:fr+1].to_string(index=False)\n",
    "        walker=alldata_df['walker'].iloc[fr:fr+1].to_string(index=False)\n",
    "        chain=alldata_df['chain'].iloc[fr:fr+1].to_string(index=False)\n",
    "        traj_frame_from0=int(float(alldata_df['time'].iloc[fr:fr+1].to_string(index=False)))\n",
    "        topname='{trajspath}/{system}_mon.pdb'.format(trajspath=trajspath,system=system)\n",
    "        trajname='{trajspath}/{system}_mw{walker}_ch{chain}.xtc'.format(trajspath=trajspath, \n",
    "                                                                        system=system, walker=walker,\n",
    "                                                                        chain=chain)\n",
    "        print('extracting frame with rbias '+str(sel_frames_rbias[n]))\n",
    "        current_structure=pt.load(trajname,top=topname,frame_indices=[traj_frame_from0])\n",
    "        stripped_current=pt.strip(current_structure, strip_mask)\n",
    "        if (n == 0):\n",
    "            ref=stripped_current.copy()\n",
    "            aligned_structure=ref.copy()\n",
    "        elif (n != 0):\n",
    "            aligned_structure=pt.align(stripped_current,ref=ref,mask=align_mask, ref_mask=align_mask)\n",
    "        outpdb='{n}.pdb'.format(n=n)\n",
    "        pt.write_trajectory(outpdb,aligned_structure,format='pdb',overwrite=True)\n"
   ]
  },
  {
   "cell_type": "code",
   "execution_count": 30,
   "id": "72ab52d4-e1ed-40da-b42e-71de6cf658df",
   "metadata": {},
   "outputs": [],
   "source": [
    "def write_file(alldata_df, sel_frames, sel_frames_rbias,outfile):\n",
    "    with open(outfile,'w') as out:\n",
    "        out.write('PDB index, walker  chain  rbias  d1.z   d2.z\\n')\n",
    "        out.close()\n",
    "    for n,fr in enumerate(sel_frames):\n",
    "        system=alldata_df['system'].iloc[fr:fr+1].to_string(index=False)\n",
    "        walker=alldata_df['walker'].iloc[fr:fr+1].to_string(index=False)\n",
    "        chain=alldata_df['chain'].iloc[fr:fr+1].to_string(index=False)\n",
    "        d1z=alldata_df['d1.z'].iloc[fr:fr+1].to_string(index=False)\n",
    "        d2z=alldata_df['d2.z'].iloc[fr:fr+1].to_string(index=False)\n",
    "        with open(outfile,'a') as out:\n",
    "            out.write('{PDB_index},{walker},{chain},{rbias},{d1z},{d2z}\\n'.format(PDB_index=n,walker=walker, chain=chain, \n",
    "                                                                    rbias=sel_frames_rbias[n],d1z=d1z,d2z=d2z))\n",
    "    out.close()\n",
    "    \n",
    "        "
   ]
  },
  {
   "cell_type": "markdown",
   "id": "293eeeb7-4a83-4707-8b9b-e0c6aeb2a516",
   "metadata": {},
   "source": [
    "## Defining global variables"
   ]
  },
  {
   "cell_type": "code",
   "execution_count": 55,
   "id": "a2503ca9-b5f8-417a-918f-8ca04c5bf114",
   "metadata": {},
   "outputs": [],
   "source": [
    "titles=['wild Gext0','mut Gext0','mut Gext-', 'wild Gext-']\n",
    "titles2=['WP','WD','MP', 'MD']\n",
    "names=['wt_Glu0','mut_Glu0','wt_Glu-', 'mut_Glu-']\n",
    "walkers=np.arange(0,8)\n",
    "chains=['A','B']"
   ]
  },
  {
   "cell_type": "markdown",
   "id": "26378bff-4105-42c5-8ec4-70cc1be70c56",
   "metadata": {},
   "source": [
    "## Loading COLVAR data for rbias\n",
    "I use colvar file to be able (later) to select frames with largest/smallest/random reduced bias."
   ]
  },
  {
   "cell_type": "code",
   "execution_count": 8,
   "id": "727503ac-0c81-49a7-a0e3-c06ae2e02a8b",
   "metadata": {},
   "outputs": [],
   "source": [
    "data=[]\n",
    "path='/orozco/projects/E-Dent/MILOSZ/meta/phase2/colvars'\n",
    "plumed_files=[]\n",
    "for index,name in enumerate(titles2):\n",
    "    data.append([])\n",
    "    for chain in chains:\n",
    "        for walker in walkers:\n",
    "            ftemp='{path}/{name}/{w}/COLVAR'.format(path=path,name=name,w=walker)\n",
    "            if (chain=='A'):\n",
    "              dtemp=pd.read_csv(ftemp,delimiter=\" \",comment='#',skipinitialspace=True,usecols=[0,3,8,25],names=['time','d1.z','d2.z','rbias'])  \n",
    "            elif (chain=='B'):\n",
    "              dtemp=pd.read_csv(ftemp,delimiter=\" \",comment='#',skipinitialspace=True, usecols=[0,13,18,29],names=['time','d1.z','d2.z','rbias'])\n",
    "            dtemp['chain']=chain\n",
    "            dtemp['name']=name\n",
    "            dtemp['walker']=walker  \n",
    "            dtemp['time (ps)']=np.round(dtemp['time']).astype(int)\n",
    "            if (name=='WP'):\n",
    "                dtemp['system']='wt_Glu0'\n",
    "            if (name=='WD'):\n",
    "                dtemp['system']='wt_Glu-'\n",
    "            if (name=='MP'):\n",
    "                dtemp['system']='mut_Glu0'\n",
    "            if (name=='MD'):\n",
    "                dtemp['system']='mut_Glu-'\n",
    "            data[index].append(dtemp)\n",
    "            #plumed_files.append(temp)\n",
    "colvar_sys=[]\n",
    "#for each system sys I concatenate the walkers n, poi li appendo. L'ordine è quello di names\n",
    "for sys,name in enumerate(titles):\n",
    "    tmp=pd.concat(data[sys][n] for n,m in enumerate(data[sys]))\n",
    "    colvar_sys.append(tmp)\n",
    "    \n",
    "#ora concateno i 4 sistemi    \n",
    "colvar_allconc=pd.concat((colvar_sys[n] for n,m in enumerate(colvar_sys)),ignore_index=True)\n",
    "colvar=colvar_allconc.loc[colvar_allconc['time (ps)']%500==0]"
   ]
  },
  {
   "cell_type": "code",
   "execution_count": 9,
   "id": "671466fd-d3ab-44a8-a133-53ed2d93f83b",
   "metadata": {},
   "outputs": [
    {
     "data": {
      "text/plain": [
       "[0, 500, 1000, 1500]"
      ]
     },
     "execution_count": 9,
     "metadata": {},
     "output_type": "execute_result"
    }
   ],
   "source": [
    "colvar_allconc[0:100:25]['time (ps)'].values.tolist()"
   ]
  },
  {
   "cell_type": "markdown",
   "id": "2bf73a2e",
   "metadata": {},
   "source": [
    "## Loading dz data for index\n",
    "I calculated dz values on my trajectories to easily "
   ]
  },
  {
   "cell_type": "code",
   "execution_count": 10,
   "id": "9f4f76a9",
   "metadata": {},
   "outputs": [],
   "source": [
    "dz_allconc=[]\n",
    "data=[]\n",
    "for index,name in enumerate(names):\n",
    "    data.append([])\n",
    "    for chain in chains:\n",
    "        for walker in walkers:\n",
    "            ftemp='/orozco/projects/E-Dent/VERONICA/DIMER_LARGER/mw_metad/analysis_phase2/dz/{system}/{system}.mw{w}.{ch}.analysis.dat'.format(system=name,w=walker,ch=chain)\n",
    "            dtemp=pd.read_csv(ftemp,delimiter=\" \",skipinitialspace=True,usecols=[0,1,2],names=['time','d1.z','d2.z'],skiprows=1)\n",
    "            dtemp['ctrl']=name\n",
    "            if (name=='wt_Glu0'):\n",
    "                dtemp['charge']='0'\n",
    "            if (name=='wt_Glu-'):\n",
    "                dtemp['charge']='-1'\n",
    "            if (name=='mut_Glu0'):\n",
    "                dtemp['charge']='0'\n",
    "            if (name=='mut_Glu-'):\n",
    "                dtemp['charge']='-1'\n",
    "            dtemp['chain']=chain\n",
    "            dtemp['system']=name\n",
    "            dtemp['walker']=walker\n",
    "            dtemp['time (ps)']=(dtemp['time']*500).astype(int)\n",
    "            data[index].append(dtemp)\n",
    "data[0][8].head(2)\n",
    "\n",
    "data_sys=[]\n",
    "for sys,name in enumerate(names):\n",
    "    tmp=pd.concat(data[sys][n] for n,m in enumerate(data[sys]))\n",
    "    data_sys.append(tmp)\n",
    "alldata=pd.concat((data_sys[n] for n,m in enumerate(data_sys)),ignore_index=True)"
   ]
  },
  {
   "cell_type": "code",
   "execution_count": 57,
   "id": "3f7ae72a-ea0d-40cc-ad6f-4c6b4b06bb25",
   "metadata": {},
   "outputs": [
    {
     "data": {
      "text/html": [
       "<div>\n",
       "<style scoped>\n",
       "    .dataframe tbody tr th:only-of-type {\n",
       "        vertical-align: middle;\n",
       "    }\n",
       "\n",
       "    .dataframe tbody tr th {\n",
       "        vertical-align: top;\n",
       "    }\n",
       "\n",
       "    .dataframe thead th {\n",
       "        text-align: right;\n",
       "    }\n",
       "</style>\n",
       "<table border=\"1\" class=\"dataframe\">\n",
       "  <thead>\n",
       "    <tr style=\"text-align: right;\">\n",
       "      <th></th>\n",
       "      <th>time</th>\n",
       "      <th>d1.z</th>\n",
       "      <th>d2.z</th>\n",
       "      <th>ctrl</th>\n",
       "      <th>charge</th>\n",
       "      <th>chain</th>\n",
       "      <th>system</th>\n",
       "      <th>walker</th>\n",
       "      <th>time (ps)</th>\n",
       "    </tr>\n",
       "  </thead>\n",
       "  <tbody>\n",
       "    <tr>\n",
       "      <th>0</th>\n",
       "      <td>0.0</td>\n",
       "      <td>1.722141</td>\n",
       "      <td>12.372143</td>\n",
       "      <td>wt_Glu0</td>\n",
       "      <td>0</td>\n",
       "      <td>A</td>\n",
       "      <td>wt_Glu0</td>\n",
       "      <td>0</td>\n",
       "      <td>0</td>\n",
       "    </tr>\n",
       "    <tr>\n",
       "      <th>1</th>\n",
       "      <td>1.0</td>\n",
       "      <td>-2.002858</td>\n",
       "      <td>12.027140</td>\n",
       "      <td>wt_Glu0</td>\n",
       "      <td>0</td>\n",
       "      <td>A</td>\n",
       "      <td>wt_Glu0</td>\n",
       "      <td>0</td>\n",
       "      <td>500</td>\n",
       "    </tr>\n",
       "    <tr>\n",
       "      <th>2</th>\n",
       "      <td>2.0</td>\n",
       "      <td>-4.301784</td>\n",
       "      <td>11.988217</td>\n",
       "      <td>wt_Glu0</td>\n",
       "      <td>0</td>\n",
       "      <td>A</td>\n",
       "      <td>wt_Glu0</td>\n",
       "      <td>0</td>\n",
       "      <td>1000</td>\n",
       "    </tr>\n",
       "    <tr>\n",
       "      <th>3</th>\n",
       "      <td>3.0</td>\n",
       "      <td>-4.937858</td>\n",
       "      <td>10.472145</td>\n",
       "      <td>wt_Glu0</td>\n",
       "      <td>0</td>\n",
       "      <td>A</td>\n",
       "      <td>wt_Glu0</td>\n",
       "      <td>0</td>\n",
       "      <td>1500</td>\n",
       "    </tr>\n",
       "    <tr>\n",
       "      <th>4</th>\n",
       "      <td>4.0</td>\n",
       "      <td>-4.530357</td>\n",
       "      <td>10.499642</td>\n",
       "      <td>wt_Glu0</td>\n",
       "      <td>0</td>\n",
       "      <td>A</td>\n",
       "      <td>wt_Glu0</td>\n",
       "      <td>0</td>\n",
       "      <td>2000</td>\n",
       "    </tr>\n",
       "  </tbody>\n",
       "</table>\n",
       "</div>"
      ],
      "text/plain": [
       "   time      d1.z       d2.z     ctrl charge chain   system  walker  time (ps)\n",
       "0   0.0  1.722141  12.372143  wt_Glu0      0     A  wt_Glu0       0          0\n",
       "1   1.0 -2.002858  12.027140  wt_Glu0      0     A  wt_Glu0       0        500\n",
       "2   2.0 -4.301784  11.988217  wt_Glu0      0     A  wt_Glu0       0       1000\n",
       "3   3.0 -4.937858  10.472145  wt_Glu0      0     A  wt_Glu0       0       1500\n",
       "4   4.0 -4.530357  10.499642  wt_Glu0      0     A  wt_Glu0       0       2000"
      ]
     },
     "execution_count": 57,
     "metadata": {},
     "output_type": "execute_result"
    }
   ],
   "source": [
    "alldata.head()"
   ]
  },
  {
   "cell_type": "code",
   "execution_count": 22,
   "id": "9faed99b-3851-4b4f-b6c8-5597829dedc6",
   "metadata": {},
   "outputs": [],
   "source": [
    "current_path=Path.cwd()\n",
    "if (current_path=='/orozco/projects/E-Dent/VERONICA/DIMER_LARGER/mw_metad/colvars_pka'):\n",
    "    print('ok')"
   ]
  },
  {
   "cell_type": "code",
   "execution_count": 23,
   "id": "8ec49c87-c76a-4c7f-9d41-3f5ac250591c",
   "metadata": {},
   "outputs": [
    {
     "name": "stdout",
     "output_type": "stream",
     "text": [
      "/orozco/projects/E-Dent/VERONICA/DIMER_LARGER/mw_metad/colvars_pka\n"
     ]
    }
   ],
   "source": [
    "print(current_path)"
   ]
  },
  {
   "cell_type": "markdown",
   "id": "ccdc4497",
   "metadata": {},
   "source": [
    "## Select and write frames for each phase-space bin"
   ]
  },
  {
   "cell_type": "code",
   "execution_count": 54,
   "id": "2998a213",
   "metadata": {},
   "outputs": [
    {
     "name": "stdout",
     "output_type": "stream",
     "text": [
      "extracting frame with rbias -19.818764\n",
      "extracting frame with rbias -19.984807\n",
      "extracting frame with rbias -14.799626\n",
      "extracting frame with rbias -15.581884\n",
      "extracting frame with rbias -23.276037\n",
      "extracting frame with rbias -23.924541\n",
      "extracting frame with rbias -40.143647\n",
      "extracting frame with rbias -41.436974\n"
     ]
    }
   ],
   "source": [
    "### change here ####\n",
    "nframes=2\n",
    "dmin=0\n",
    "dmax=3\n",
    "dx=1.5\n",
    "align_mask=':1-510@CA,C,N,O'\n",
    "####################\n",
    "\n",
    "sys='mut_Glu0'\n",
    "if (sys=='wt_Glu0'):\n",
    "    strip_mask='!((:1-675)|(@62678-62681))'\n",
    "elif (sys=='mut_Glu0'):\n",
    "    strip_mask='!((:1-675)|(@63049-63052))'\n",
    "\n",
    "colvar=colvar_allconc.loc[colvar_allconc['time (ps)']%500==0]\n",
    "trajspath=\"/orozco/projects/E-Dent/VERONICA/DIMER_LARGER/mw_metad/trajs_mon_wat/phase2\"\n",
    "\n",
    "#always start from here\n",
    "os.chdir('/orozco/projects/E-Dent/VERONICA/DIMER_LARGER/mw_metad/colvars_pka')\n",
    "\n",
    "#if sys dir does not exist, create it!\n",
    "path=Path(sys)\n",
    "path.mkdir(parents=True, exist_ok=True)\n",
    "os.chdir(path)\n",
    "\n",
    "for i in np.linspace(dmin, dmax-dx, int((dmax-dmin)/dx)):\n",
    "    for j in np.linspace(dmin, dmax-dx, int((dmax-dmin)/dx)): \n",
    "        #print(j)\n",
    "        #it can be chainA or chainB\n",
    "        colvar_largest_rbias=select_colvar_bylargest_rbias(colvar,sys,[j+dx,j,i+dx,i],nframes)\n",
    "        sel_frames, sel_frames_rbias=select_alldata_bytime(colvar_largest_rbias,alldata,sys)\n",
    "        outdir='frames'+'_'+str(i)+'_'+str(j) #i=dz1, j=dz2\n",
    "        outfile='frames_{dz1}_{dz2}.dat'.format(dz1=i,dz2=j)\n",
    "        #if bin dir doesn't exist, create it!\n",
    "        path=Path(outdir)\n",
    "        path.mkdir(parents=True, exist_ok=True)\n",
    "        os.chdir(path)\n",
    "        \n",
    "        write_file(alldata,sel_frames,sel_frames_rbias,outfile)\n",
    "        write_pdb(alldata,sel_frames,sel_frames_rbias,trajspath,strip_mask,align_mask)\n",
    "        os.chdir(\"..\")\n",
    "#colvar_largest_rbias.head()          \n",
    "#write_pdb(alldata, sel_frames, sel_frames_rbias, trajspath,align_mask, min_name, \"frames_extracted_lowest_rbias\")\n"
   ]
  }
 ],
 "metadata": {
  "kernelspec": {
   "display_name": "Python 3 (ipykernel)",
   "language": "python",
   "name": "python3"
  },
  "language_info": {
   "codemirror_mode": {
    "name": "ipython",
    "version": 3
   },
   "file_extension": ".py",
   "mimetype": "text/x-python",
   "name": "python",
   "nbconvert_exporter": "python",
   "pygments_lexer": "ipython3",
   "version": "3.8.17"
  }
 },
 "nbformat": 4,
 "nbformat_minor": 5
}
