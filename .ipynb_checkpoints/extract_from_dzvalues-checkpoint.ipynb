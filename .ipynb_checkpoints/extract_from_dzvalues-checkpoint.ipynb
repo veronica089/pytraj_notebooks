{
 "cells": [
  {
   "cell_type": "markdown",
   "id": "83a64bde-6204-47da-b8ab-d0a2209dc28a",
   "metadata": {},
   "source": [
    "# Notebook to extract frames from metadynamics simulations using reduced bias info contained in the colvar file.¶"
   ]
  },
  {
   "cell_type": "markdown",
   "id": "5326da93-26ca-46aa-9cdd-e43750e36252",
   "metadata": {},
   "source": [
    "## Importing"
   ]
  },
  {
   "cell_type": "code",
   "execution_count": null,
   "id": "0dad3ed4-113e-48a0-b493-4f63b5ddfd60",
   "metadata": {},
   "outputs": [],
   "source": [
    "import numpy as np\n",
    "import pandas as pd\n",
    "import seaborn as sb\n",
    "import matplotlib.pyplot as plt\n",
    "import os\n",
    "\n",
    "\n",
    "import sklearn\n",
    "from sklearn.preprocessing import StandardScaler\n",
    "from sklearn.cluster import SpectralClustering,MiniBatchKMeans,KMeans\n",
    "from sklearn.decomposition import PCA\n",
    "from sklearn.neighbors import KernelDensity\n",
    "from sklearn.model_selection import GridSearchCV\n",
    "\n",
    "import hdbscan\n",
    "from hdbscan import HDBSCAN\n",
    "\n",
    "\n",
    "from matplotlib.pyplot import figure\n",
    "\n",
    "import pytraj as pt\n",
    "import nglview as nv"
   ]
  },
  {
   "cell_type": "markdown",
   "id": "f3add158-61a0-4a4f-bc14-ce53e169f38d",
   "metadata": {},
   "source": [
    "## Functions"
   ]
  },
  {
   "cell_type": "code",
   "execution_count": 2,
   "id": "37350fed-d477-4311-81b7-f5eabe4e4ab5",
   "metadata": {},
   "outputs": [],
   "source": [
    "def create_dir(parent_directory, directory):\n",
    "    # Concatenate parent directory and directory name\n",
    "    full_path = os.path.join(parent_directory, directory)\n",
    "    \n",
    "    if not os.path.exists(full_path):\n",
    "        os.makedirs(full_path)\n",
    "        print(f\"Directory '{directory}' created successfully inside '{parent_directory}'.\")\n",
    "    else:\n",
    "        print(f\"Directory '{directory}' already exists inside '{parent_directory}'.\")"
   ]
  },
  {
   "cell_type": "markdown",
   "id": "bebb635f-cdec-47fe-b557-98189400cc4b",
   "metadata": {},
   "source": [
    "### - select_colvar..._rbias functions: this function helps me to select the colvar-file data subgroup with largest/lowest/random reduced rbias values in the dz range of interest "
   ]
  },
  {
   "cell_type": "code",
   "execution_count": 41,
   "id": "54381fd9-4219-400e-9fb6-74f27da4d044",
   "metadata": {},
   "outputs": [],
   "source": [
    "def select_colvar_bylowest_rbias(colvar_df,system,dvalues,nframes):\n",
    "    \"select nframes of colvar in d1.z and d2.z range with lowest rbias\"\n",
    "    colvar_dz=colvar_df.loc[(colvar_df['system']==system) & (colvar_df['d2.z'] <= dvalues[0]) & \n",
    "                    (colvar_df['d2.z'] >= dvalues[1]) & (colvar_df['d1.z'] <= dvalues[2]) &\n",
    "                    (colvar_df['d1.z'] >= dvalues[3])]\n",
    "\n",
    "    colvar_lowest_rbias=colvar_dz.sort_values(by=['rbias'])[:nframes]\n",
    "    return colvar_lowest_rbias"
   ]
  },
  {
   "cell_type": "code",
   "execution_count": 42,
   "id": "9761bc3d-2167-4b06-aab1-80386313558a",
   "metadata": {},
   "outputs": [],
   "source": [
    "def select_colvar_bylargest_rbias(colvar_df,system,dvalues,nframes):\n",
    "    \"select nframes of colvar in d1.z and d2.z range with lowest rbias\"\n",
    "    colvar_dz=colvar_df.loc[(colvar_df['system']==system) & (colvar_df['d2.z'] <= dvalues[0]) & \n",
    "                    (colvar_df['d2.z'] >= dvalues[1]) & (colvar_df['d1.z'] <= dvalues[2]) &\n",
    "                    (colvar_df['d1.z'] >= dvalues[3])]\n",
    "\n",
    "    colvar_largest_rbias=colvar_dz.sort_values(by=['rbias'], ascending=False)[:nframes]\n",
    "    return colvar_largest_rbias"
   ]
  },
  {
   "cell_type": "code",
   "execution_count": 43,
   "id": "3b4ad7ec-6dfa-44bf-a860-65bf72a8ff3b",
   "metadata": {},
   "outputs": [],
   "source": [
    "def select_colvar_nosorting(colvar_df,system,dvalues,nframes,random_seed):\n",
    "    \"select nframes of colvar in d1.z and d2.z range with lowest rbias\"\n",
    "    colvar_dz=colvar_df.loc[(colvar_df['system']==system) & (colvar_df['d2.z'] <= dvalues[0]) & \n",
    "                    (colvar_df['d2.z'] >= dvalues[1]) & (colvar_df['d1.z'] <= dvalues[2]) &\n",
    "                    (colvar_df['d1.z'] >= dvalues[3])]\n",
    "    #selecting random frames with .sample()\n",
    "    colvar_nosorting=colvar_dz.sample(nframes,random_state=random_seed)\n",
    "    return colvar_nosorting"
   ]
  },
  {
   "cell_type": "code",
   "execution_count": 3,
   "id": "06d24a27-6de6-4b00-b065-b1858d0a2f00",
   "metadata": {},
   "outputs": [],
   "source": [
    "def select_alldata_bytime(colvar_sel,alldata_df,sys):\n",
    "#With this function \"alldata\" frames are selected if they correspond to previously-selected frames in the colvar subgroup and return an index.\n",
    "#This is done searching for variables that are in common (system, chain, walker and time).\n",
    "#alldata is created by analyzing the trajectory from which the frames have to be extracted, to ensure that the correspondance between\n",
    "#index (needed by pytraj) and extracted frame is correct. \n",
    "#In theory this passage may be skipped (select with colvar-->extract frame), but it helps avoiding mistakes.\n",
    "    sel_rbias=[]\n",
    "    selframes=[]\n",
    "    for ind,row in colvar_sel.iterrows():\n",
    "        #print(row)\n",
    "        selframes.append(alldata_df.loc[(alldata_df['system']==row['system']) & (alldata_df['chain']==row['chain'])\n",
    "        & (alldata_df['walker']==row['walker']) & (alldata_df['time (ps)']==row['time (ps)'])].index.to_list())\n",
    "\n",
    "        sel_rbias.append(row['rbias'])\n",
    "    sel_frames=[frame for sublist in selframes for frame in sublist]\n",
    "        \n",
    "    return(sel_frames, sel_rbias)"
   ]
  },
  {
   "cell_type": "code",
   "execution_count": 76,
   "id": "691d82a5-cc51-4d3f-9110-8585622e0fc9",
   "metadata": {},
   "outputs": [],
   "source": [
    "def write_pdb(alldata_df, sel_frames, sel_frames_rbias, trajspath,align_mask, min_name, outdir):\n",
    "    for n,fr in enumerate(sel_frames):\n",
    "        system=alldata_df['system'].iloc[fr:fr+1].to_string(index=False)\n",
    "        walker=alldata_df['walker'].iloc[fr:fr+1].to_string(index=False)\n",
    "        chain=alldata_df['chain'].iloc[fr:fr+1].to_string(index=False)\n",
    "        traj_frame_from0=int(float(alldata['time'].iloc[fr:fr+1].to_string(index=False)))\n",
    "        topname='{trajspath}/{system}_mon.pdb'.format(trajspath=trajspath,system=system)\n",
    "        trajname='{trajspath}/trajs_mon_wat/phase2/{system}_mw{walker}_ch{chain}.xtc'.format(trajspath=trajspath, \n",
    "                                                                        system=system, walker=walker,\n",
    "                                                                        chain=chain)\n",
    "        print('extracting frame with rbias '+str(sel_frames_rbias[n]))\n",
    "        current_structure=pt.load(trajname,top=topname,frame_indices=[traj_frame_from0])\n",
    "        if (n == 0):\n",
    "            ref=current_structure.copy()\n",
    "            aligned_structure=ref.copy()\n",
    "        elif (n != 0):\n",
    "            aligned_structure=pt.align(current_structure,ref=ref,mask=align_mask, ref_mask=align_mask)\n",
    "        outpdb='{outdir}/{min_name}/rbias{rbias}_frame{fr}.pdb'.format(outdir=outdir,min_name=min_name,rbias=sel_frames_rbias[n],fr=fr)\n",
    "        pt.write_trajectory(outpdb,aligned_structure,format='pdb',overwrite=True)\n"
   ]
  },
  {
   "cell_type": "code",
   "execution_count": 77,
   "id": "8d37b7a2-b9f5-45a1-99dc-d62b2881bf51",
   "metadata": {},
   "outputs": [],
   "source": [
    "def write_pdb_dimer(alldata_df, sel_frames, sel_frames_rbias, trajspath, strip_mask, align_mask, min_name, outdir):\n",
    "    for n,fr in enumerate(sel_frames):\n",
    "        system=alldata_df['system'].iloc[fr:fr+1].to_string(index=False)\n",
    "        walker=alldata_df['walker'].iloc[fr:fr+1].to_string(index=False)\n",
    "        traj_frame_from0=int(float(alldata['time'].iloc[fr:fr+1].to_string(index=False)))\n",
    "        topname='{trajspath}/{system}/trajs_phase2/all.pdb'.format(trajspath=trajspath,system=system)\n",
    "        trajname='{trajspath}/{system}/trajs_phase2/mw{walker}_all_image.xtc'.format(trajspath=trajspath, \n",
    "                                                                        system=system, walker=walker)\n",
    "        #print('topname =',topname)\n",
    "        #print('trajname =',trajname)\n",
    "                                                                    \n",
    "        print('extracting frame with rbias '+str(sel_frames_rbias[n]))\n",
    "        current_structure=pt.load(trajname,top=topname,frame_indices=[traj_frame_from0])\n",
    "        if (n == 0):\n",
    "            ref=current_structure.copy()\n",
    "            aligned_structure=ref.copy()\n",
    "        elif (n != 0):\n",
    "            aligned_structure=pt.align(current_structure,ref=ref,mask=align_mask, ref_mask=align_mask)\n",
    "        stripped_traj=pt.strip(aligned_structure,strip_mask)\n",
    "        outpdb='{outdir}/{min_name}/rbias{rbias}_frame{fr}.pdb'.format(outdir=outdir,min_name=min_name,rbias=sel_frames_rbias[n],fr=fr)\n",
    "        pt.write_trajectory(outpdb,stripped_traj,format='pdb',overwrite=True)\n"
   ]
  },
  {
   "cell_type": "code",
   "execution_count": 60,
   "id": "a2503ca9-b5f8-417a-918f-8ca04c5bf114",
   "metadata": {},
   "outputs": [],
   "source": [
    "trajspath='/orozco/projects/E-Dent/VERONICA/DIMER_LARGER/mw_metad'\n",
    "titles=['wild Gext0','wild Gext-','mut Gext0', 'wild Gext-']\n",
    "titles2=['WP','WD','MP', 'MD']\n",
    "names=['wt_Glu0','wt_Glu-','mut_Glu0', 'mut_Glu-']\n",
    "walkers=np.arange(0,8)\n",
    "chains=['A','B']"
   ]
  },
  {
   "cell_type": "markdown",
   "id": "26378bff-4105-42c5-8ec4-70cc1be70c56",
   "metadata": {},
   "source": [
    "## Loading COLVAR data"
   ]
  },
  {
   "cell_type": "code",
   "execution_count": 65,
   "id": "727503ac-0c81-49a7-a0e3-c06ae2e02a8b",
   "metadata": {},
   "outputs": [
    {
     "data": {
      "text/plain": [
       "1990870"
      ]
     },
     "execution_count": 65,
     "metadata": {},
     "output_type": "execute_result"
    }
   ],
   "source": [
    "data=[]\n",
    "path='/orozco/projects/E-Dent/MILOSZ/meta/phase2/colvars'\n",
    "plumed_files=[]\n",
    "for index,name in enumerate(titles2):\n",
    "    data.append([])\n",
    "    for chain in chains:\n",
    "        for walker in walkers:\n",
    "            ftemp='{path}/{name}/{w}/COLVAR'.format(path=path,name=name,w=walker)\n",
    "            if (chain=='A'):\n",
    "              dtemp=pd.read_csv(ftemp,delimiter=\" \",comment='#',skipinitialspace=True,usecols=[0,3,8,25],names=['time','d1.z','d2.z','rbias'])  \n",
    "            elif (chain=='B'):\n",
    "              dtemp=pd.read_csv(ftemp,delimiter=\" \",comment='#',skipinitialspace=True, usecols=[0,13,18,29],names=['time','d1.z','d2.z','rbias'])\n",
    "            dtemp['chain']=chain\n",
    "            dtemp['name']=name\n",
    "            dtemp['walker']=walker  \n",
    "            dtemp['time (ps)']=np.round(dtemp['time']).astype(int)\n",
    "            if (name=='WP'):\n",
    "                dtemp['system']='wt_Glu0'\n",
    "            if (name=='WD'):\n",
    "                dtemp['system']='wt_Glu-'\n",
    "            if (name=='MP'):\n",
    "                dtemp['system']='mut_Glu0'\n",
    "            if (name=='MD'):\n",
    "                dtemp['system']='mut_Glu-'\n",
    "            data[index].append(dtemp)\n",
    "            #plumed_files.append(temp)\n",
    "colvar_sys=[]\n",
    "#for each system sys I concatenate the walkers n, poi li appendo. L'ordine è quello di names\n",
    "for sys,name in enumerate(titles):\n",
    "    tmp=pd.concat(data[sys][n] for n,m in enumerate(data[sys]))\n",
    "    colvar_sys.append(tmp)\n",
    "    \n",
    "#ora concateno i 4 sistemi    \n",
    "colvar_allconc=pd.concat((colvar_sys[n] for n,m in enumerate(colvar_sys)),ignore_index=True)\n",
    "len(colvar_allconc)"
   ]
  },
  {
   "cell_type": "code",
   "execution_count": 48,
   "id": "671466fd-d3ab-44a8-a133-53ed2d93f83b",
   "metadata": {},
   "outputs": [
    {
     "data": {
      "text/plain": [
       "[0, 500, 1000, 1500]"
      ]
     },
     "execution_count": 48,
     "metadata": {},
     "output_type": "execute_result"
    }
   ],
   "source": [
    "colvar_allconc[0:100:25]['time (ps)'].values.tolist()"
   ]
  },
  {
   "cell_type": "markdown",
   "id": "2bf73a2e",
   "metadata": {},
   "source": [
    "# Loading dz data"
   ]
  },
  {
   "cell_type": "code",
   "execution_count": 66,
   "id": "9f4f76a9",
   "metadata": {},
   "outputs": [],
   "source": [
    "dz_allconc=[]\n",
    "data=[]\n",
    "for index,name in enumerate(names):\n",
    "    data.append([])\n",
    "    for chain in chains:\n",
    "        for walker in walkers:\n",
    "            ftemp='/orozco/projects/E-Dent/VERONICA/DIMER_LARGER/mw_metad/analysis_phase2/dz/{system}/{system}.mw{w}.{ch}.analysis.dat'.format(system=name,w=walker,ch=chain)\n",
    "            dtemp=pd.read_csv(ftemp,delimiter=\" \",skipinitialspace=True,usecols=[0,1,2],names=['time','d1.z','d2.z'],skiprows=1)\n",
    "            dtemp['ctrl']=name\n",
    "            if (name=='wt_Glu0'):\n",
    "                dtemp['charge']='0'\n",
    "            if (name=='wt_Glu-'):\n",
    "                dtemp['charge']='-1'\n",
    "            if (name=='mut_Glu0'):\n",
    "                dtemp['charge']='0'\n",
    "            if (name=='mut_Glu-'):\n",
    "                dtemp['charge']='-1'\n",
    "            dtemp['chain']=chain\n",
    "            dtemp['system']=name\n",
    "            dtemp['walker']=walker\n",
    "            dtemp['time (ps)']=(dtemp['time']*500).astype(int)\n",
    "            data[index].append(dtemp)\n",
    "data[0][8].head(2)\n",
    "\n",
    "data_sys=[]\n",
    "for sys,name in enumerate(names):\n",
    "    tmp=pd.concat(data[sys][n] for n,m in enumerate(data[sys]))\n",
    "    data_sys.append(tmp)\n",
    "    \n",
    "dz_allconc=pd.concat((data_sys[n] for n,m in enumerate(data_sys)),ignore_index=True)\n",
    "#dz_allconc.head()"
   ]
  },
  {
   "cell_type": "code",
   "execution_count": 50,
   "id": "25750d66-38e7-4fe2-abae-ecf4b4e1c568",
   "metadata": {},
   "outputs": [],
   "source": [
    "#dz_allconc.loc[(dz_allconc['time(ps)']==500.0)]"
   ]
  },
  {
   "cell_type": "markdown",
   "id": "fd49c436",
   "metadata": {},
   "source": [
    "# Add to alldata"
   ]
  },
  {
   "cell_type": "code",
   "execution_count": 67,
   "id": "cda8ae3a",
   "metadata": {},
   "outputs": [
    {
     "data": {
      "text/html": [
       "<div>\n",
       "<style scoped>\n",
       "    .dataframe tbody tr th:only-of-type {\n",
       "        vertical-align: middle;\n",
       "    }\n",
       "\n",
       "    .dataframe tbody tr th {\n",
       "        vertical-align: top;\n",
       "    }\n",
       "\n",
       "    .dataframe thead th {\n",
       "        text-align: right;\n",
       "    }\n",
       "</style>\n",
       "<table border=\"1\" class=\"dataframe\">\n",
       "  <thead>\n",
       "    <tr style=\"text-align: right;\">\n",
       "      <th></th>\n",
       "      <th>time</th>\n",
       "      <th>d1.z</th>\n",
       "      <th>d2.z</th>\n",
       "      <th>ctrl</th>\n",
       "      <th>charge</th>\n",
       "      <th>chain</th>\n",
       "      <th>system</th>\n",
       "      <th>walker</th>\n",
       "      <th>time (ps)</th>\n",
       "    </tr>\n",
       "  </thead>\n",
       "  <tbody>\n",
       "    <tr>\n",
       "      <th>0</th>\n",
       "      <td>0.0</td>\n",
       "      <td>1.722141</td>\n",
       "      <td>12.372143</td>\n",
       "      <td>wt_Glu0</td>\n",
       "      <td>0</td>\n",
       "      <td>A</td>\n",
       "      <td>wt_Glu0</td>\n",
       "      <td>0</td>\n",
       "      <td>0</td>\n",
       "    </tr>\n",
       "    <tr>\n",
       "      <th>1</th>\n",
       "      <td>1.0</td>\n",
       "      <td>-2.002858</td>\n",
       "      <td>12.027140</td>\n",
       "      <td>wt_Glu0</td>\n",
       "      <td>0</td>\n",
       "      <td>A</td>\n",
       "      <td>wt_Glu0</td>\n",
       "      <td>0</td>\n",
       "      <td>500</td>\n",
       "    </tr>\n",
       "    <tr>\n",
       "      <th>2</th>\n",
       "      <td>2.0</td>\n",
       "      <td>-4.301784</td>\n",
       "      <td>11.988217</td>\n",
       "      <td>wt_Glu0</td>\n",
       "      <td>0</td>\n",
       "      <td>A</td>\n",
       "      <td>wt_Glu0</td>\n",
       "      <td>0</td>\n",
       "      <td>1000</td>\n",
       "    </tr>\n",
       "    <tr>\n",
       "      <th>3</th>\n",
       "      <td>3.0</td>\n",
       "      <td>-4.937858</td>\n",
       "      <td>10.472145</td>\n",
       "      <td>wt_Glu0</td>\n",
       "      <td>0</td>\n",
       "      <td>A</td>\n",
       "      <td>wt_Glu0</td>\n",
       "      <td>0</td>\n",
       "      <td>1500</td>\n",
       "    </tr>\n",
       "    <tr>\n",
       "      <th>4</th>\n",
       "      <td>4.0</td>\n",
       "      <td>-4.530357</td>\n",
       "      <td>10.499642</td>\n",
       "      <td>wt_Glu0</td>\n",
       "      <td>0</td>\n",
       "      <td>A</td>\n",
       "      <td>wt_Glu0</td>\n",
       "      <td>0</td>\n",
       "      <td>2000</td>\n",
       "    </tr>\n",
       "  </tbody>\n",
       "</table>\n",
       "</div>"
      ],
      "text/plain": [
       "   time      d1.z       d2.z     ctrl charge chain   system  walker  time (ps)\n",
       "0   0.0  1.722141  12.372143  wt_Glu0      0     A  wt_Glu0       0          0\n",
       "1   1.0 -2.002858  12.027140  wt_Glu0      0     A  wt_Glu0       0        500\n",
       "2   2.0 -4.301784  11.988217  wt_Glu0      0     A  wt_Glu0       0       1000\n",
       "3   3.0 -4.937858  10.472145  wt_Glu0      0     A  wt_Glu0       0       1500\n",
       "4   4.0 -4.530357  10.499642  wt_Glu0      0     A  wt_Glu0       0       2000"
      ]
     },
     "execution_count": 67,
     "metadata": {},
     "output_type": "execute_result"
    }
   ],
   "source": [
    "alldata=dz_allconc.copy()\n",
    "alldata.head()"
   ]
  },
  {
   "cell_type": "markdown",
   "id": "2a99dd00-be80-4a77-b2ea-97eb3d7b1a18",
   "metadata": {},
   "source": [
    "## Example: Write wt_Glu0 minima frames with largest reduced bias factor\n"
   ]
  },
  {
   "cell_type": "code",
   "execution_count": null,
   "id": "a3a4623a-49e5-49a7-bf2a-6aeafc3afd5a",
   "metadata": {},
   "outputs": [],
   "source": [
    "### change here ####\n",
    "m='M1w_2'\n",
    "nframes=10\n",
    "align_mask=':1-510@CA,C,N,O'\n",
    "####################\n",
    "\n",
    "min_name=m\n",
    "sys='wt_Glu0'\n",
    "alldata=dz_allconc.copy()\n",
    "colvar=colvar_allconc.loc[colvar_allconc['time (ps)']%500==0]\n",
    "outdir=\"frames_extracted_largest_rbias\"\n",
    "outdir2='frames_largest_bias_forCarles'\n",
    "stripmask='(:TIP3,TIP,WAT,CLA,SOD)'\n",
    "\n",
    "dvalues0=[11, 9.7, 0.8, -0.8]\n",
    "dvalues0_2=[0.8, -0.8, 11, 9.7]\n",
    "\n",
    "dvalues2=[11, 8.7, 3.8, 1.2]\n",
    "dvalues2_2=[3.8, 1.2, 8,7, 11]\n",
    "\n",
    "dvalues5=[11, 9.7, 5.95, 4.75]\n",
    "dvalues5_2=[5.95, 4.75, 11, 9.7]\n",
    "\n",
    "if (m=='M1w'):\n",
    "    dvalues=dvalues5.copy()\n",
    "elif (m=='M1w_2'):\n",
    "    dvalues=dvalues5_2.copy()\n",
    "\n",
    "elif (m=='M2w'):\n",
    "    dvalues=dvalues2.copy()\n",
    "elif (m=='M2w_2'):\n",
    "    dvalues=dvalues2_2.copy()\n",
    "\n",
    "elif (m=='M3w'):\n",
    "    dvalues=dvalues0.copy()\n",
    "elif (m=='M3w_2'):\n",
    "    dvalues=dvalues0_2.copy()\n",
    "\n",
    "#sel lowest rbias from colvar\n",
    "colvar_largest_rbias=select_colvar_bylargest_rbias(colvar,sys,dvalues,nframes)\n",
    "#sel frames with lowest rbias from alldata\n",
    "sel_frames, sel_frames_rbias=select_alldata_bytime(colvar_largest_rbias,alldata,sys)\n",
    "print(colvar_largest_rbias)\n",
    "create_dir(outdir2, min_name)\n",
    "#write pdb for each frame with lowest rbias \n",
    "#write_pdb(alldata, sel_frames, sel_frames_rbias, trajspath, align_mask, min_name, outdir)\n",
    "write_pdb_dimer(alldata, sel_frames, sel_frames_rbias, trajspath, stripmask, align_mask, min_name, outdir2)"
   ]
  }
 ],
 "metadata": {
  "kernelspec": {
   "display_name": "Python 3 (ipykernel)",
   "language": "python",
   "name": "python3"
  },
  "language_info": {
   "codemirror_mode": {
    "name": "ipython",
    "version": 3
   },
   "file_extension": ".py",
   "mimetype": "text/x-python",
   "name": "python",
   "nbconvert_exporter": "python",
   "pygments_lexer": "ipython3",
   "version": "3.8.17"
  }
 },
 "nbformat": 4,
 "nbformat_minor": 5
}
